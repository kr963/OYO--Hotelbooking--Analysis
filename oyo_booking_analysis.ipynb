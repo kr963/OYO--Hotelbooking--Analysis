
{
 "cells": [
  {
   "cell_type": "markdown",
   "metadata": {},
   "source": [
    "# 🏨 OYO Hotel Booking Analysis\n",
    "This notebook explores booking trends, cancellations, pricing, and revenue breakdowns based on region and room types."
   ]
  },
  {
   "cell_type": "code",
   "execution_count": null,
   "metadata": {},
   "outputs": [],
   "source": [
    "import pandas as pd\n",
    "import matplotlib.pyplot as plt\n",
    "import seaborn as sns\n",
    "\n",
    "# Load dataset\n",
    "df = pd.read_csv('../data/booking_cleaned_data.csv')\n",
    "df.head()"
   ]
  },
  {
   "cell_type": "markdown",
   "metadata": {},
   "source": [
    "## 🔍 Summary Statistics"
   ]
  },
  {
   "cell_type": "code",
   "execution_count": null,
   "metadata": {},
   "outputs": [],
   "source": [
    "df.describe()"
   ]
  },
  {
   "cell_type": "markdown",
   "metadata": {},
   "source": [
    "## 📊 Cancellations by Region"
   ]
  },
  {
   "cell_type": "code",
   "execution_count": null,
   "metadata": {},
   "outputs": [],
   "source": [
    "plt.figure(figsize=(8, 5))\n",
    "sns.countplot(x='region', hue='cancellation_flag', data=df)\n",
    "plt.title('Cancellations by Region')\n",
    "plt.xlabel('Region')\n",
    "plt.ylabel('Number of Bookings')\n",
    "plt.legend(title='Cancelled', labels=['No', 'Yes'])\n",
    "plt.tight_layout()\n",
    "plt.show()"
   ]
  },
  {
   "cell_type": "markdown",
   "metadata": {},
   "source": [
    "## 💸 Price Distribution by Room Type"
   ]
  },
  {
   "cell_type": "code",
   "execution_count": null,
   "metadata": {},
   "outputs": [],
   "source": [
    "plt.figure(figsize=(8, 5))\n",
    "sns.boxplot(x='room_type', y='price', data=df)\n",
    "plt.title('Price Distribution by Room Type')\n",
    "plt.xlabel('Room Type')\n",
    "plt.ylabel('Price')\n",
    "plt.tight_layout()\n",
    "plt.show()"
   ]
  },
  {
   "cell_type": "markdown",
   "metadata": {},
   "source": [
    "## 📅 Booking Timeline"
   ]
  },
  {
   "cell_type": "code",
   "execution_count": null,
   "metadata": {},
   "outputs": [],
   "source": [
    "df['checkin_date'] = pd.to_datetime(df['checkin_date'])\n",
    "df['month'] = df['checkin_date'].dt.to_period('M')\n",
    "monthly_bookings = df.groupby('month').size()\n",
    "\n",
    "plt.figure(figsize=(10, 5))\n",
    "monthly_bookings.plot(kind='line', marker='o')\n",
    "plt.title('Monthly Booking Volume')\n",
    "plt.xlabel('Month')\n",
    "plt.ylabel('Number of Bookings')\n",
    "plt.grid(True)\n",
    "plt.tight_layout()\n",
    "plt.show()"
   ]
  },
  {
   "cell_type": "markdown",
   "metadata": {},
   "source": [
    "## ✅ Key Insights\n",
    "- South and North regions show higher cancellation rates.\n",
    "- Suite rooms have the highest price variability.\n",
    "- Bookings peak during certain months, suggesting seasonal trends.\n",
    "\n",
    "Further actions: integrate this analysis into a Streamlit dashboard or Tableau visual."
   ]
  }
 ],
 "metadata": {
  "kernelspec": {
   "display_name": "Python 3",
   "language": "python",
   "name": "python3"
  },
  "language_info": {
   "name": "python",
   "version": "3.9"
  }
 },
 "nbformat": 4,
 "nbformat_minor": 2
}
