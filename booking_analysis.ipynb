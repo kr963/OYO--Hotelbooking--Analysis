# 🏨 OYO Hotel Booking Analysis
# This notebook explores booking trends, cancellations, pricing, and revenue breakdowns 
# based on region and room types using synthetic booking data.
import pandas as pd
import matplotlib.pyplot as plt
import seaborn as sns

# Load dataset
df = pd.read_csv('../data/booking_cleaned_data.csv')
df.head()

# Basic stats
df.describe()

#cancellation by region
plt.figure(figsize=(8, 5))
sns.countplot(x='region', hue='cancellation_flag', data=df)
plt.title('Cancellations by Region')
plt.xlabel('Region')
plt.ylabel('Number of Bookings')
plt.legend(title='Cancelled', labels=['No', 'Yes'])
plt.tight_layout()
plt.show()

#room type price distribution
plt.figure(figsize=(8, 5))
sns.boxplot(x='room_type', y='price', data=df)
plt.title('Price Distribution by Room Type')
plt.xlabel('Room Type')
plt.ylabel('Price')
plt.tight_layout()
plt.show()

#overtime booking trends
df['checkin_date'] = pd.to_datetime(df['checkin_date'])
df['month'] = df['checkin_date'].dt.to_period('M')

monthly_bookings = df.groupby('month').size()

plt.figure(figsize=(10, 5))
monthly_bookings.plot(kind='line', marker='o')
plt.title('Monthly Booking Volume')
plt.xlabel('Month')
plt.ylabel('Number of Bookings')
plt.grid(True)
plt.tight_layout()
plt.show()

# ✅ Key Insights:
print("""
- South and North regions show higher cancellation rates.
- Suite rooms have the highest price variability.
- Bookings show seasonal trends with spikes during certain months.
- Data supports pricing strategy, resource allocation, and churn reduction insights.
""")
